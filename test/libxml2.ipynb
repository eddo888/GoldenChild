{
 "cells": [
  {
   "cell_type": "code",
   "execution_count": null,
   "id": "e64697d7-9534-43f9-8cf3-8d38d4db898e",
   "metadata": {},
   "outputs": [],
   "source": [
    "import lxml"
   ]
  },
  {
   "cell_type": "code",
   "execution_count": null,
   "id": "dc5d1cd1-b403-4f3b-bca8-fde00608e340",
   "metadata": {},
   "outputs": [],
   "source": [
    "import libxml2"
   ]
  },
  {
   "cell_type": "code",
   "execution_count": null,
   "id": "3a2d1c85-ab44-47a7-833d-4c0301cb2bec",
   "metadata": {},
   "outputs": [],
   "source": []
  }
 ],
 "metadata": {
  "kernelspec": {
   "display_name": "Python 3 (ipykernel)",
   "language": "python",
   "name": "python3"
  },
  "language_info": {
   "codemirror_mode": {
    "name": "ipython",
    "version": 3
   },
   "file_extension": ".py",
   "mimetype": "text/x-python",
   "name": "python",
   "nbconvert_exporter": "python",
   "pygments_lexer": "ipython3",
   "version": "3.8.10"
  }
 },
 "nbformat": 4,
 "nbformat_minor": 5
}
